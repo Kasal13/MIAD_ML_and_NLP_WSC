{
  "cells": [
    {
      "cell_type": "markdown",
      "metadata": {
        "id": "_mx8oWtA6dsV"
      },
      "source": [
        "![image info](https://raw.githubusercontent.com/albahnsen/MIAD_ML_and_NLP/main/images/banner_1.png)"
      ]
    },
    {
      "cell_type": "markdown",
      "metadata": {
        "id": "Nnk_e_gv6dsd"
      },
      "source": [
        "# Taller: Tokenización de textos  \n",
        "\n",
        "En este taller podrán poner en práctica sus conocimientos sobre preprocesamiento de texto (tokenización). El taller está constituido por 5 puntos, en los cuales deberan seguir las intrucciones de cada numeral para su desarrollo."
      ]
    },
    {
      "cell_type": "markdown",
      "metadata": {
        "id": "sgJ1q9WU6dse"
      },
      "source": [
        "## Datos detección de toxicidad en comentarios\n",
        "\n",
        "En este taller se usará el conjunto de datos de detección de toxicidad en comentarios de la base de datos de Kaggle. Cada observación es un comentario que tiene como variable objetivo (target) la probabilidad de ser un comentario tóxico. El objetivo es predecir la toxicidad de cada comentario. Para más detalles pueden visitar el siguiente enlace: [datos](https://www.kaggle.com/c/jigsaw-unintended-bias-in-toxicity-classification/data)."
      ]
    },
    {
      "cell_type": "code",
      "execution_count": 1,
      "metadata": {
        "id": "IJODmctd6dsf"
      },
      "outputs": [],
      "source": [
        "import warnings\n",
        "warnings.filterwarnings('ignore')"
      ]
    },
    {
      "cell_type": "code",
      "execution_count": 2,
      "metadata": {
        "id": "cBTWLj-36dsg"
      },
      "outputs": [],
      "source": [
        "# Importación librerías\n",
        "import pandas as pd\n",
        "import numpy as np\n",
        "import scipy as sp\n",
        "from sklearn.model_selection import train_test_split, cross_val_score\n",
        "from sklearn.feature_extraction.text import CountVectorizer, TfidfVectorizer\n",
        "from sklearn import metrics\n",
        "%matplotlib inline"
      ]
    },
    {
      "cell_type": "code",
      "execution_count": 3,
      "metadata": {
        "id": "SvvUZHuf6dsh"
      },
      "outputs": [],
      "source": [
        "# Carga de datos de archivos .csv\n",
        "df = pd.read_csv('https://raw.githubusercontent.com/albahnsen/MIAD_ML_and_NLP/main/datasets/Toxicity.zip')\n",
        "df = df[['id','comment_text', 'target']]\n",
        "df.head()\n",
        "df['comment_text'] = df['comment_text'].str.replace('[#,@,&,?]', '')"
      ]
    },
    {
      "cell_type": "code",
      "execution_count": 4,
      "metadata": {
        "colab": {
          "base_uri": "https://localhost:8080/",
          "height": 282
        },
        "id": "Dm8FxKP46dsi",
        "outputId": "5f01b32b-8b50-49db-9966-31f04de20d52"
      },
      "outputs": [
        {
          "output_type": "execute_result",
          "data": {
            "text/plain": [
              "<matplotlib.axes._subplots.AxesSubplot at 0x7efd0114c3d0>"
            ]
          },
          "metadata": {},
          "execution_count": 4
        },
        {
          "output_type": "display_data",
          "data": {
            "text/plain": [
              "<Figure size 432x288 with 1 Axes>"
            ],
            "image/png": "[encoded data removed]"
          },
          "metadata": {
            "needs_background": "light"
          }
        }
      ],
      "source": [
        "# Impresión histograma de variable de interés (y)\n",
        "df.target.hist()"
      ]
    },
    {
      "cell_type": "code",
      "execution_count": 5,
      "metadata": {
        "colab": {
          "base_uri": "https://localhost:8080/"
        },
        "id": "XC1DcQT56dsj",
        "outputId": "e6b52fc3-6567-4014-be1a-a7599cb9d55c"
      },
      "outputs": [
        {
          "output_type": "execute_result",
          "data": {
            "text/plain": [
              "count    541462.000000\n",
              "mean          0.102991\n",
              "std           0.196979\n",
              "min           0.000000\n",
              "25%           0.000000\n",
              "50%           0.000000\n",
              "75%           0.166667\n",
              "max           1.000000\n",
              "Name: target, dtype: float64"
            ]
          },
          "metadata": {},
          "execution_count": 5
        }
      ],
      "source": [
        "# Separación de variable de interés (y)\n",
        "y = df.target\n",
        "y.describe()"
      ]
    },
    {
      "cell_type": "code",
      "execution_count": 6,
      "metadata": {
        "colab": {
          "base_uri": "https://localhost:8080/"
        },
        "id": "9blRi7b36dsk",
        "outputId": "a55fdede-781d-4ebd-d898-1687ac80e98f"
      },
      "outputs": [
        {
          "output_type": "stream",
          "name": "stdout",
          "text": [
            "(541462,)\n"
          ]
        }
      ],
      "source": [
        "# Separación de variables predictoras (X), solo se considera el texto de la noticia\n",
        "X = df.comment_text\n",
        "print(X.shape)"
      ]
    },
    {
      "cell_type": "code",
      "execution_count": 7,
      "metadata": {
        "id": "Zk5DJFHG6dsl"
      },
      "outputs": [],
      "source": [
        "# Separación de datos en set de entrenamiento y test\n",
        "X_train, X_test, y_train, y_test = train_test_split(X, y, test_size=0.33, random_state=42)"
      ]
    },
    {
      "cell_type": "markdown",
      "metadata": {
        "id": "WpImPYQu6dsl"
      },
      "source": [
        "## Punto 1 - Tokenización con CountVectorizer\n",
        "\n",
        "En la celda 1 creen y entrenen el modelo de regresión de su preferencia, para que prediga la probabilidad de que un comentario sea tóxico, usando los set de entrenamiento y test definidos anteriormente. Usen la función **CountVectorizer** para preprocesar los comentarios y presenten el desempeño del modelo con la métrica del acurracy.\n",
        "\n",
        "Recuerden que el preprocesamiento que se haga sobre los datos de entrenamiento  (*.fit_transform()*) deben ser aplicado al set de test (*.transform()*)."
      ]
    },
    {
      "cell_type": "code",
      "execution_count": null,
      "metadata": {
        "colab": {
          "base_uri": "https://localhost:8080/"
        },
        "id": "vAbTH3vq6dsm",
        "outputId": "ee3f8d4e-20af-4d59-868b-c572b53d377e"
      },
      "outputs": [
        {
          "output_type": "stream",
          "name": "stdout",
          "text": [
            "(362779, 823)\n",
            "RMSE 0.19344002327153711\n"
          ]
        }
      ],
      "source": [
        "from  sklearn.ensemble import RandomForestRegressor\n",
        "from sklearn.metrics import mean_squared_error, r2_score\n",
        "import math\n",
        "import seaborn as sns\n",
        "import matplotlib.pyplot as plt\n",
        "%matplotlib inline\n",
        "\n",
        "count_vect = CountVectorizer(lowercase=False, stop_words='english', min_df=0.005,dtype=np.int8)\n",
        "matrix_tokens_train = count_vect.fit_transform(X_train)\n",
        "matrix_tokens_test = count_vect.transform(X_test)\n",
        "array_tokens_train = matrix_tokens_train.todense()\n",
        "print(array_tokens_train.shape)\n",
        "\n",
        "array_tokens_test = matrix_tokens_test.todense()\n",
        "\n",
        "df = pd.DataFrame(data=array_tokens_train,columns = count_vect.get_feature_names())\n",
        "modelo=RandomForestRegressor (random_state=1)\n",
        "modelo.fit(df, y_train)\n",
        "yPred= modelo.predict(array_tokens_test)\n",
        "print(f'RMSE {math.sqrt(mean_squared_error(y_test, yPred))}')\n",
        "\n"
      ]
    },
    {
      "cell_type": "markdown",
      "metadata": {
        "id": "G1Q8C_mh6dsn"
      },
      "source": [
        "## Punto 2 - Tokenización con CountVectorizer y trigramas\n",
        "\n",
        "En la celda 2 creen y entrenen el mismo modelo de regresión del punto anterior (es decir si usaron un RandomForestRegresor usen nuevamente ese regresor), para que prediga la probabilidad de que un comentario sea tóxico, usando los set de entrenamiento y test definidos anteriormente. Usen la función CountVectorizer **considerando trigramas** para preprocesar los comentarios y presenten el desempeño del modelo con la métrica del acurracy.\n",
        "\n",
        "Recuerden que el preprocesamiento que se haga sobre los datos de entrenamiento  (*.fit_transform()*) deben ser aplicado al set de test (*.transform()*)."
      ]
    },
    {
      "cell_type": "code",
      "execution_count": null,
      "metadata": {
        "colab": {
          "base_uri": "https://localhost:8080/"
        },
        "id": "GuUUD6eh6dsn",
        "outputId": "e1c9a361-e10c-4815-9145-e377fc618e1c"
      },
      "outputs": [
        {
          "name": "stdout",
          "output_type": "stream",
          "text": [
            "(362779, 491)\n",
            "RMSE 0.19738063565047737\n"
          ]
        }
      ],
      "source": [
        "from  sklearn.ensemble import RandomForestRegressor\n",
        "from sklearn.metrics import mean_squared_error, r2_score\n",
        "import math\n",
        "\n",
        "count_vect = CountVectorizer(lowercase=False, ngram_range=(3,3),stop_words='english',  min_df=0.0001, dtype=np.int8)\n",
        "matrix_tokens_train = count_vect.fit_transform(X_train)\n",
        "matrix_tokens_test = count_vect.transform(X_test)\n",
        "array_tokens_train = matrix_tokens_train.toarray()\n",
        "array_tokens_test = matrix_tokens_test.toarray()\n",
        "print(array_tokens_train.shape)\n",
        "\n",
        "df = pd.DataFrame(data=array_tokens_train,columns = count_vect.get_feature_names())\n",
        "modelo=RandomForestRegressor (random_state=1)\n",
        "modelo.fit(df, y_train)\n",
        "yPred= modelo.predict(array_tokens_test)\n",
        "print(f'RMSE {math.sqrt(mean_squared_error(y_test, yPred))}')\n"
      ]
    },
    {
      "cell_type": "markdown",
      "metadata": {
        "id": "nM5L7x9A6dso"
      },
      "source": [
        "# CountVectorizer vs TfidfVectorizer\n",
        "***\n",
        "CountVectorizer convierte a \"corpus\" en una representación de frecuencias de n-grams. Esto tiene algunas desventajas a saber:\n",
        "- Falta de capacidad de identificar los n-grams más importantes o menos importantes para análisis.\n",
        "- Limita su capacidad a considerar que las palabras más frecuentes en un corpus, son las más significativas estadisticamente hablando.\n",
        "- No identifica relaciones tales como similaridad linguística entre palabras.\n",
        "\n",
        "Debido a estas desventajas , aparece TfidfVectorizer el cual es el equivalente a CountVectorizer seguido de TfidfTransformer. TfIdf significa Term-Frecuency/Inverse Document Frecuency. Este es un estadístico que se basa en la frecuecia de una palabra en el corpus pero tambien representa que tan importante es una palabra para análisis estadístico. Aqui, es donde cobra importancia TfidfVectorizer porque no solamente se centra en la frecuencia de las palabras sino en la importancia de las mismas. Esto repercute inmediatamente en el hecho que se podrían remover las menos importantes para reducir la complejidad del modelo y la dimensionalidad.  \n",
        "La intuición de este concepto, consiste en que las palabras demasiado abundantes o palabras demasiado raras son no estadísticamente importantes. Valores altos de TFIDF significa un mayor grado de importancia de esa palabra. Por el contrario, valores pequenos de TFIDF representan un menor grado de importancia.\n",
        "La desventaja de TfidfVectorizer es que no puede reconocer las relaciones tales como la similaridad linguística entre palabras.\n",
        "\n",
        "\\\n",
        "\n"
      ]
    },
    {
      "cell_type": "markdown",
      "metadata": {
        "id": "t22NxgCt6dso"
      },
      "source": [
        "#Celda 3\n"
      ]
    },
    {
      "cell_type": "markdown",
      "metadata": {
        "id": "StBuNSNv6dsp"
      },
      "source": [
        "## Punto 4 - Tokenización con TfidfVectorizer\n",
        "\n",
        "En la celda 4 creen y entrenen el mismo modelo de regresión del primer punto, para que prediga la probabilidad de que un comentario sea tóxico, usando los set de entrenamiento y test definidos anteriormente. Procesen los comentarios con la función **TfidfVectorizer** y presenten el desempeño del modelo con la métrica del acurracy.\n",
        "\n",
        "Recuerden que el preprocesamiento que se haga sobre los datos de entrenamiento  (*.fit_transform()*) deben ser aplicado al set de test (*.transform()*)."
      ]
    },
    {
      "cell_type": "code",
      "execution_count": 10,
      "metadata": {
        "id": "Bw5qvYQR6dsp",
        "colab": {
          "base_uri": "https://localhost:8080/"
        },
        "outputId": "5151daf5-6f5c-410e-8337-f2932be0a4b6"
      },
      "outputs": [
        {
          "output_type": "stream",
          "name": "stdout",
          "text": [
            "(362779, 26)\n",
            "        And   If        It  That       The      They  This  Trump   We  What  \\\n",
            "0       0.0  0.0  0.000000   0.0  0.000000  0.000000   0.0    0.0  0.0   0.0   \n",
            "1       0.0  0.0  0.000000   0.0  0.554942  0.000000   0.0    0.0  0.0   0.0   \n",
            "2       0.0  0.0  0.000000   0.0  1.000000  0.000000   0.0    0.0  0.0   0.0   \n",
            "3       0.0  0.0  0.000000   0.0  0.000000  0.000000   0.0    0.0  0.0   0.0   \n",
            "4       1.0  0.0  0.000000   0.0  0.000000  0.000000   0.0    0.0  0.0   0.0   \n",
            "...     ...  ...       ...   ...       ...       ...   ...    ...  ...   ...   \n",
            "362774  0.0  0.0  0.894185   0.0  0.000000  0.000000   0.0    0.0  0.0   0.0   \n",
            "362775  0.0  0.0  0.000000   0.0  0.000000  0.000000   0.0    0.0  0.0   0.0   \n",
            "362776  0.0  0.0  0.000000   0.0  0.000000  0.000000   0.0    1.0  0.0   0.0   \n",
            "362777  0.0  0.0  0.000000   0.0  0.000000  0.000000   0.0    0.0  0.0   0.0   \n",
            "362778  0.0  0.0  0.000000   0.0  0.558642  0.278252   0.0    0.0  0.0   0.0   \n",
            "\n",
            "        ...      like  make      need  people  right  think     time  want  \\\n",
            "0       ...  0.000000   0.0  0.000000     0.0    0.0    0.0  0.00000   0.0   \n",
            "1       ...  0.000000   0.0  0.831889     0.0    0.0    0.0  0.00000   0.0   \n",
            "2       ...  0.000000   0.0  0.000000     0.0    0.0    0.0  0.00000   0.0   \n",
            "3       ...  0.496865   0.0  0.000000     0.0    0.0    0.0  0.00000   0.0   \n",
            "4       ...  0.000000   0.0  0.000000     0.0    0.0    0.0  0.00000   0.0   \n",
            "...     ...       ...   ...       ...     ...    ...    ...      ...   ...   \n",
            "362774  ...  0.447698   0.0  0.000000     0.0    0.0    0.0  0.00000   0.0   \n",
            "362775  ...  0.000000   0.0  0.000000     0.0    0.0    0.0  0.00000   0.0   \n",
            "362776  ...  0.000000   0.0  0.000000     0.0    0.0    0.0  0.00000   0.0   \n",
            "362777  ...  0.000000   0.0  0.000000     0.0    1.0    0.0  0.00000   0.0   \n",
            "362778  ...  0.000000   0.0  0.000000     0.0    0.0    0.0  0.51243   0.0   \n",
            "\n",
            "        way     years  \n",
            "0       0.0  0.000000  \n",
            "1       0.0  0.000000  \n",
            "2       0.0  0.000000  \n",
            "3       0.0  0.604089  \n",
            "4       0.0  0.000000  \n",
            "...     ...       ...  \n",
            "362774  0.0  0.000000  \n",
            "362775  0.0  0.000000  \n",
            "362776  0.0  0.000000  \n",
            "362777  0.0  0.000000  \n",
            "362778  0.0  0.000000  \n",
            "\n",
            "[362779 rows x 26 columns]\n",
            "RMSE 0.19963546230011214\n"
          ]
        }
      ],
      "source": [
        "# Celda 4\n",
        "from  sklearn.ensemble import RandomForestRegressor\n",
        "from sklearn.metrics import mean_squared_error, r2_score\n",
        "import math\n",
        "\n",
        "tfid = TfidfVectorizer(lowercase=False,stop_words='english', min_df=0.05,dtype=np.int8)\n",
        "matrix_tokens_train = tfid.fit_transform(X_train)\n",
        "matrix_tokens_test = tfid.transform(X_test)\n",
        "array_tokens_train = matrix_tokens_train.toarray()\n",
        "print(array_tokens_train.shape)\n",
        "array_tokens_test = matrix_tokens_test.toarray()\n",
        "\n",
        "df = pd.DataFrame(data=array_tokens_train,columns = tfid.get_feature_names())\n",
        "print(df)\n",
        "modelo=RandomForestRegressor (random_state=1)\n",
        "modelo.fit(df, y_train)\n",
        "yPred= modelo.predict(array_tokens_test)\n",
        "print(f'RMSE {math.sqrt(mean_squared_error(y_test, yPred))}')"
      ]
    },
    {
      "cell_type": "markdown",
      "metadata": {
        "id": "eXePMWJu6dsp"
      },
      "source": [
        "## Punto 5 - Comparación y análisis de resultados\n",
        "\n",
        "En la celda 5 comparen los resultados obtenidos de los diferentes modelos y comenten cómo el preprocesamiento de texto afecta el desempeño."
      ]
    },
    {
      "cell_type": "code",
      "execution_count": 15,
      "metadata": {
        "id": "iPONIIWi6dsq",
        "colab": {
          "base_uri": "https://localhost:8080/",
          "height": 598
        },
        "outputId": "915b1da6-6125-41ae-8f4c-a3969de3b40e"
      },
      "outputs": [
        {
          "output_type": "display_data",
          "data": {
            "text/plain": [
              "<Figure size 504x360 with 1 Axes>"
            ],
            "image/png": "[encoded data removed]"
          },
          "metadata": {
            "needs_background": "light"
          }
        }
      ],
      "source": [
        "# Importación de librerías\n",
        "\n",
        "%matplotlib inline\n",
        "import matplotlib.pyplot as plt\n",
        "from matplotlib.pyplot import figure\n",
        "fig = plt.figure(figsize=(7,5))\n",
        "ax = fig.add_axes([0,0,1,1])\n",
        "ax.set_title(\"Comparación de modelos\")\n",
        "ejeX = ['CountVectorizer','CountVectorizer-Trigramas', 'TfidfVectorizer']\n",
        "ejeY = [0.19344002327153711, 0.19738063565047737,0.19963546230011214\n",
        "]\n",
        "ax.bar(ejeX,ejeY)\n",
        "def addlabels(x,y,plotP):\n",
        "    for i in range(len(x)):\n",
        "        plotP.text(i,y[i],\"{:.4f}\".format(y[i]),fontsize=10)\n",
        "addlabels(ejeX,ejeY,plt)\n",
        "plt.xticks(fontsize=14, rotation=90)\n",
        "plt.show()"
      ]
    },
    {
      "cell_type": "markdown",
      "source": [
        "# Comparacion\n",
        "***\n",
        "\n",
        "- Hacer la aclaracion , fue posible correr los modelos tratando de reducir el vocabulario en cada modelo y que obviamente afecta el RMSE resultante.\n",
        "- Previamente se limpio el corpus eliminando caracteres especiales.\n",
        "\n",
        "- En todos los modelos se uso stop-words=english para reducir el vocabulario.\n",
        "\n",
        "- Para el primer modelo, se hizo uso de min_df del 0.5% para reducir el vocabulario a 823 terminos. RMSE resultante=0.19344002327153711. Este tomo 8 horas para correr.\n",
        "- Para el segundo modelo, se hizo uso de min-df=0.01% para reducir el vocabulario a 491 terminos.RMSE resultante=0.19738063565047737. Este tomo 6 horas para correr.\n",
        "\n",
        "- Paral tercer modelo, min df=5% con el objetivo de reducir el vocabulario y bajar el tiempo de entrenar el modelo dramaticamente. Esto dio un vocabulario de 26 terminos. Nos hubiese gustado correr el ejercicio con un min_df=0.1% para aumentar el vocabulario pero por falta de tiempo en el entrenamiento, no fue posible. "
      ],
      "metadata": {
        "id": "lG6UT0qae6wj"
      }
    }
  ],
  "metadata": {
    "colab": {
      "collapsed_sections": [],
      "machine_shape": "hm",
      "name": "S4TC1_Tokenizacion.ipynb",
      "provenance": []
    },
    "kernelspec": {
      "display_name": "Python 3",
      "language": "python",
      "name": "python3"
    },
    "language_info": {
      "codemirror_mode": {
        "name": "ipython",
        "version": 3
      },
      "file_extension": ".py",
      "mimetype": "text/x-python",
      "name": "python",
      "nbconvert_exporter": "python",
      "pygments_lexer": "ipython3",
      "version": "3.7.3"
    },
    "name": "_merged"
  },
  "nbformat": 4,
  "nbformat_minor": 0
}